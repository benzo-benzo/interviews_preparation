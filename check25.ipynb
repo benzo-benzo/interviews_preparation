{
 "cells": [
  {
   "cell_type": "code",
   "execution_count": 162,
   "id": "first-rating",
   "metadata": {},
   "outputs": [],
   "source": [
    "import numpy as np\n",
    "import random\n",
    "import matplotlib.pyplot as plt\n",
    "from scipy import linalg"
   ]
  },
  {
   "cell_type": "markdown",
   "id": "distant-healing",
   "metadata": {},
   "source": [
    "## Numpy ##"
   ]
  },
  {
   "cell_type": "markdown",
   "id": "known-violin",
   "metadata": {},
   "source": [
    "# Creating a NumPy array#\n",
    "\n",
    "Write a Python program to create a NumPy array of 10 zeros, 10 ones, 10 fives."
   ]
  },
  {
   "cell_type": "code",
   "execution_count": 37,
   "id": "static-project",
   "metadata": {},
   "outputs": [],
   "source": [
    "#[meth for meth in dir(np) if not meth.startswith(\"_\")]"
   ]
  },
  {
   "cell_type": "code",
   "execution_count": 22,
   "id": "least-twins",
   "metadata": {},
   "outputs": [],
   "source": [
    "zeros = np.zeros(10)"
   ]
  },
  {
   "cell_type": "code",
   "execution_count": 44,
   "id": "dental-walter",
   "metadata": {},
   "outputs": [
    {
     "data": {
      "text/plain": [
       "array([1, 1, 1, 1, 1, 1, 1, 1, 1, 1])"
      ]
     },
     "execution_count": 44,
     "metadata": {},
     "output_type": "execute_result"
    }
   ],
   "source": [
    "ones = [1 for it in range(10)]\n",
    "ones = np.array(ones)\n",
    "ones"
   ]
  },
  {
   "cell_type": "markdown",
   "id": "confident-expression",
   "metadata": {},
   "source": [
    "# Array operations\n",
    "\n",
    "Given two NumPy arrays A = [1,2,3] and B = [4,5,6]. Perform addition, subtraction, multiplication, division and modulus operations on A and B.#"
   ]
  },
  {
   "cell_type": "code",
   "execution_count": 45,
   "id": "controlled-exclusive",
   "metadata": {},
   "outputs": [],
   "source": [
    "A = np.array([1,2,3])\n",
    "B = np.array([4,5,6])"
   ]
  },
  {
   "cell_type": "code",
   "execution_count": 49,
   "id": "aquatic-senegal",
   "metadata": {},
   "outputs": [],
   "source": [
    "C = A+B\n",
    "D = A/B\n",
    "E = A%B"
   ]
  },
  {
   "cell_type": "markdown",
   "id": "solved-lender",
   "metadata": {},
   "source": [
    "#Array slicing#\n",
    "\n",
    "Create a 1D NumPy array from 1 to 10 inclusive, then extract all odd numbers from this array."
   ]
  },
  {
   "cell_type": "code",
   "execution_count": 52,
   "id": "supposed-dragon",
   "metadata": {},
   "outputs": [
    {
     "data": {
      "text/plain": [
       "[1, 3, 5, 7, 9]"
      ]
     },
     "execution_count": 52,
     "metadata": {},
     "output_type": "execute_result"
    }
   ],
   "source": [
    "[it for it in range(1,11) if it %2 == 1]"
   ]
  },
  {
   "cell_type": "markdown",
   "id": "about-letter",
   "metadata": {},
   "source": [
    "#Matrix operations#\n",
    "\n",
    "Create two 3x3 matrices and perform matrix multiplication and find the transpose of the result."
   ]
  },
  {
   "cell_type": "code",
   "execution_count": 68,
   "id": "celtic-reward",
   "metadata": {},
   "outputs": [
    {
     "name": "stdout",
     "output_type": "stream",
     "text": [
      "[[4 5 5]\n",
      " [0 0 0]\n",
      " [3 2 5]]\n"
     ]
    }
   ],
   "source": [
    "A = np.array([[4, 5, 5],[0,0,0],[3,2,5]])\n",
    "print(A)\n",
    "B = np.array([[1, 3, 2],[4,-2,1],[0,100,0]])"
   ]
  },
  {
   "cell_type": "code",
   "execution_count": 63,
   "id": "protected-miami",
   "metadata": {},
   "outputs": [],
   "source": [
    "C = A@B"
   ]
  },
  {
   "cell_type": "code",
   "execution_count": 64,
   "id": "amazing-leave",
   "metadata": {},
   "outputs": [
    {
     "name": "stdout",
     "output_type": "stream",
     "text": [
      "[[ 24 502  13]\n",
      " [  0   0   0]\n",
      " [ 11 505   8]]\n"
     ]
    }
   ],
   "source": [
    "print(C)"
   ]
  },
  {
   "cell_type": "code",
   "execution_count": 66,
   "id": "correct-wonder",
   "metadata": {},
   "outputs": [
    {
     "name": "stdout",
     "output_type": "stream",
     "text": [
      "[[ 24   0  11]\n",
      " [502   0 505]\n",
      " [ 13   0   8]]\n"
     ]
    }
   ],
   "source": [
    "print(C.transpose())"
   ]
  },
  {
   "cell_type": "markdown",
   "id": "tamil-status",
   "metadata": {},
   "source": [
    "# Aggregation Functions #\n",
    "\n",
    "Generate a 1D NumPy array of 10 random integers, then find the average, median, and standard deviation of the array."
   ]
  },
  {
   "cell_type": "code",
   "execution_count": 80,
   "id": "hawaiian-redhead",
   "metadata": {},
   "outputs": [],
   "source": [
    "rand_list = [random.random() for it in range(1,11)]"
   ]
  },
  {
   "cell_type": "code",
   "execution_count": 81,
   "id": "tutorial-reservoir",
   "metadata": {},
   "outputs": [
    {
     "data": {
      "text/plain": [
       "0.27480592532386605"
      ]
     },
     "execution_count": 81,
     "metadata": {},
     "output_type": "execute_result"
    }
   ],
   "source": [
    "np.mean(rand_list)"
   ]
  },
  {
   "cell_type": "code",
   "execution_count": 82,
   "id": "neutral-utilization",
   "metadata": {},
   "outputs": [
    {
     "data": {
      "text/plain": [
       "0.21938753672158023"
      ]
     },
     "execution_count": 82,
     "metadata": {},
     "output_type": "execute_result"
    }
   ],
   "source": [
    "np.median(rand_list)"
   ]
  },
  {
   "cell_type": "code",
   "execution_count": 84,
   "id": "prompt-memory",
   "metadata": {},
   "outputs": [
    {
     "data": {
      "text/plain": [
       "0.2580849220375687"
      ]
     },
     "execution_count": 84,
     "metadata": {},
     "output_type": "execute_result"
    }
   ],
   "source": [
    "np.std(rand_list)"
   ]
  },
  {
   "cell_type": "markdown",
   "id": "split-aerospace",
   "metadata": {},
   "source": [
    "# Reshaping and Flattening #\n",
    "\n",
    "Create a 3x3 matrix and convert this matrix to a 1D array."
   ]
  },
  {
   "cell_type": "code",
   "execution_count": 86,
   "id": "light-glance",
   "metadata": {},
   "outputs": [
    {
     "data": {
      "text/plain": [
       "array([4, 5, 5, 0, 0, 0, 3, 2, 5])"
      ]
     },
     "execution_count": 86,
     "metadata": {},
     "output_type": "execute_result"
    }
   ],
   "source": [
    "A = np.array([[4, 5, 5],[0,0,0],[3,2,5]])\n",
    "A.flatten()"
   ]
  },
  {
   "cell_type": "markdown",
   "id": "quick-vertex",
   "metadata": {},
   "source": [
    "# Elementwise Functions #\n",
    "\n",
    "Create a 1D array of 10 elements. Apply the numpy sin function on the array. Use the numpy arcsin function to reverse the operation."
   ]
  },
  {
   "cell_type": "code",
   "execution_count": 87,
   "id": "smooth-imperial",
   "metadata": {},
   "outputs": [],
   "source": [
    "rand_list = [random.random() for it in range(1,11)]"
   ]
  },
  {
   "cell_type": "code",
   "execution_count": 90,
   "id": "connected-activity",
   "metadata": {},
   "outputs": [
    {
     "data": {
      "text/plain": [
       "[0.6278011466716413,\n",
       " 0.46090615987228833,\n",
       " 0.987711253750054,\n",
       " 0.16341461648842304,\n",
       " 0.8697933913043436,\n",
       " 0.5920205463927962,\n",
       " 0.09124437377450079,\n",
       " 0.9670276266167281,\n",
       " 0.20500916243727618,\n",
       " 0.9449208268856607]"
      ]
     },
     "execution_count": 90,
     "metadata": {},
     "output_type": "execute_result"
    }
   ],
   "source": [
    "rand_list"
   ]
  },
  {
   "cell_type": "code",
   "execution_count": 88,
   "id": "fifteen-cowboy",
   "metadata": {},
   "outputs": [
    {
     "data": {
      "text/plain": [
       "array([0.5873666 , 0.44475989, 0.83476798, 0.16268827, 0.76419569,\n",
       "       0.55803884, 0.09111782, 0.82320179, 0.20357613, 0.81045056])"
      ]
     },
     "execution_count": 88,
     "metadata": {},
     "output_type": "execute_result"
    }
   ],
   "source": [
    "np.sin(rand_list)"
   ]
  },
  {
   "cell_type": "code",
   "execution_count": 89,
   "id": "equivalent-arkansas",
   "metadata": {},
   "outputs": [
    {
     "data": {
      "text/plain": [
       "array([0.62780115, 0.46090616, 0.98771125, 0.16341462, 0.86979339,\n",
       "       0.59202055, 0.09124437, 0.96702763, 0.20500916, 0.94492083])"
      ]
     },
     "execution_count": 89,
     "metadata": {},
     "output_type": "execute_result"
    }
   ],
   "source": [
    "np.arcsin(np.sin(rand_list))"
   ]
  },
  {
   "cell_type": "markdown",
   "id": "aggregate-array",
   "metadata": {},
   "source": [
    "# Indexing and Selection #\n",
    "\n",
    "Create a 2D NumPy array of shape 5x5. Write a function to select the sub 2D array of shape 3x3 from the top left corner."
   ]
  },
  {
   "cell_type": "code",
   "execution_count": 91,
   "id": "honest-tutorial",
   "metadata": {},
   "outputs": [],
   "source": [
    "random.seed(43)"
   ]
  },
  {
   "cell_type": "code",
   "execution_count": 113,
   "id": "included-virus",
   "metadata": {},
   "outputs": [
    {
     "name": "stdout",
     "output_type": "stream",
     "text": [
      "[[0.18755509 0.50372613 0.07907126 0.8441429  0.43707187]\n",
      " [0.0995408  0.26221025 0.8851484  0.55033617 0.18204979]\n",
      " [0.97597235 0.6870641  0.90671732 0.26883384 0.74884877]\n",
      " [0.33386011 0.51834701 0.9244203  0.43559297 0.7146843 ]\n",
      " [0.35866122 0.61061443 0.92000535 0.8031193  0.37118402]]\n"
     ]
    }
   ],
   "source": [
    "A = np.random.rand(5,5)\n",
    "print(A)"
   ]
  },
  {
   "cell_type": "code",
   "execution_count": 114,
   "id": "theoretical-channels",
   "metadata": {},
   "outputs": [],
   "source": [
    "def sel3x3(A: np.ndarray):\n",
    "    assert A.shape >= (3,3), \"must be larger than 3x3!\"\n",
    "    return A[:3,:3]"
   ]
  },
  {
   "cell_type": "markdown",
   "id": "capital-ghost",
   "metadata": {},
   "source": [
    "# Random Number Generation #\n",
    "\n",
    "Write a Python program that uses numpy to generate 10 random numbers from a standard normal distribution."
   ]
  },
  {
   "cell_type": "code",
   "execution_count": 140,
   "id": "lined-austria",
   "metadata": {},
   "outputs": [],
   "source": [
    "random_list = [random.normalvariate(0,1) for it in range(1,110000)]"
   ]
  },
  {
   "cell_type": "code",
   "execution_count": 141,
   "id": "adopted-convertible",
   "metadata": {},
   "outputs": [
    {
     "data": {
      "image/png": "[encoded data removed]",
      "text/plain": [
       "<Figure size 640x480 with 1 Axes>"
      ]
     },
     "metadata": {},
     "output_type": "display_data"
    }
   ],
   "source": [
    "plt.hist(random_list, bins = \"auto\")\n",
    "plt.show()"
   ]
  },
  {
   "cell_type": "markdown",
   "id": "outer-monthly",
   "metadata": {},
   "source": [
    "# Broadcasting #\n",
    "\n",
    "Given a 1D array of [1, 2, 3, 4] and a 2D array of [[1, 2, 3], [4, 5, 6], [7, 8, 9]], perform a relevant operation that takes advantage of broadcasting to generate an output array."
   ]
  },
  {
   "cell_type": "code",
   "execution_count": 143,
   "id": "smoking-outdoors",
   "metadata": {},
   "outputs": [],
   "source": [
    "A =  np.array([1, 2, 3, 4] )\n",
    "B = np.array([[1, 2, 3], [4, 5, 6], [7, 8, 9]])"
   ]
  },
  {
   "cell_type": "code",
   "execution_count": 160,
   "id": "advisory-brooks",
   "metadata": {},
   "outputs": [],
   "source": [
    "A2d = A[:,np.newaxis]"
   ]
  },
  {
   "cell_type": "code",
   "execution_count": 161,
   "id": "hispanic-blank",
   "metadata": {},
   "outputs": [
    {
     "ename": "ValueError",
     "evalue": "operands could not be broadcast together with shapes (4,1) (3,3) ",
     "output_type": "error",
     "traceback": [
      "\u001b[0;31m---------------------------------------------------------------------------\u001b[0m",
      "\u001b[0;31mValueError\u001b[0m                                Traceback (most recent call last)",
      "Cell \u001b[0;32mIn[161], line 1\u001b[0m\n\u001b[0;32m----> 1\u001b[0m \u001b[43mA2d\u001b[49m\u001b[38;5;241;43m+\u001b[39;49m\u001b[43mB\u001b[49m\n",
      "\u001b[0;31mValueError\u001b[0m: operands could not be broadcast together with shapes (4,1) (3,3) "
     ]
    }
   ],
   "source": [
    "A2d+B"
   ]
  },
  {
   "cell_type": "code",
   "execution_count": null,
   "id": "architectural-spokesman",
   "metadata": {},
   "outputs": [],
   "source": [
    "# Linear Algebra #\n",
    "\n",
    "Given a square matrix A and a column matrix b, solve the system of linear equations A * x = b."
   ]
  },
  {
   "cell_type": "code",
   "execution_count": 165,
   "id": "ahead-pasta",
   "metadata": {},
   "outputs": [],
   "source": [
    "A = np.random.rand(5,5)\n",
    "b = np.random.rand(5,1)"
   ]
  },
  {
   "cell_type": "code",
   "execution_count": 166,
   "id": "vertical-oxford",
   "metadata": {},
   "outputs": [],
   "source": [
    "x = np.linalg.solve(A,b)"
   ]
  },
  {
   "cell_type": "code",
   "execution_count": 167,
   "id": "unauthorized-southwest",
   "metadata": {},
   "outputs": [
    {
     "data": {
      "text/plain": [
       "array([[-0.7143613 ],\n",
       "       [-0.49656483],\n",
       "       [ 0.57898152],\n",
       "       [ 1.11797328],\n",
       "       [-0.24651134]])"
      ]
     },
     "execution_count": 167,
     "metadata": {},
     "output_type": "execute_result"
    }
   ],
   "source": [
    "x"
   ]
  },
  {
   "cell_type": "code",
   "execution_count": 171,
   "id": "typical-oliver",
   "metadata": {},
   "outputs": [
    {
     "data": {
      "text/plain": [
       "array([[ 1.11022302e-16],\n",
       "       [ 1.11022302e-16],\n",
       "       [ 1.11022302e-16],\n",
       "       [-2.22044605e-16],\n",
       "       [-5.55111512e-17]])"
      ]
     },
     "execution_count": 171,
     "metadata": {},
     "output_type": "execute_result"
    }
   ],
   "source": [
    "linalg.inv(A)@b -x"
   ]
  },
  {
   "cell_type": "markdown",
   "id": "first-accident",
   "metadata": {},
   "source": [
    "# Interpolation #\n",
    "\n",
    "Given a set of known data points (x, y), use scipy's interpolation functions to interpolate a new set of data points"
   ]
  },
  {
   "cell_type": "code",
   "execution_count": 196,
   "id": "physical-certificate",
   "metadata": {},
   "outputs": [],
   "source": [
    "x = np.linspace(1,100,100)\n",
    "y = np.cos(x)"
   ]
  },
  {
   "cell_type": "code",
   "execution_count": 202,
   "id": "quality-translation",
   "metadata": {},
   "outputs": [],
   "source": [
    "xnew = np.linspace(3,58,101)"
   ]
  },
  {
   "cell_type": "code",
   "execution_count": 203,
   "id": "sunset-works",
   "metadata": {},
   "outputs": [],
   "source": [
    "ynew = np.interp(xnew,x,y)"
   ]
  },
  {
   "cell_type": "code",
   "execution_count": 204,
   "id": "spoken-extent",
   "metadata": {},
   "outputs": [
    {
     "data": {
      "image/png": "[encoded data removed]",
      "text/plain": [
       "<Figure size 640x480 with 1 Axes>"
      ]
     },
     "metadata": {},
     "output_type": "display_data"
    }
   ],
   "source": [
    "fig, axis = plt.subplots()\n",
    "axis = plt.scatter(x,y)\n",
    "axis = plt.scatter(xnew,ynew)"
   ]
  },
  {
   "cell_type": "markdown",
   "id": "alike-standard",
   "metadata": {},
   "source": [
    "# Optimization #\n",
    "\n",
    "Given a function f(x) = x^4 - 14x^3 + 60x^2 - 70x, find the minimum of the function using scipy's optimization functions."
   ]
  },
  {
   "cell_type": "code",
   "execution_count": 206,
   "id": "sonic-amazon",
   "metadata": {},
   "outputs": [],
   "source": [
    "from scipy.optimize import minimize\n",
    "\n",
    "def f(x):\n",
    "    return x**4 - 14*x**3 + 60*x**2 - 70*x"
   ]
  },
  {
   "cell_type": "code",
   "execution_count": 217,
   "id": "proprietary-dairy",
   "metadata": {},
   "outputs": [
    {
     "ename": "SyntaxError",
     "evalue": "invalid syntax (2526486997.py, line 2)",
     "output_type": "error",
     "traceback": [
      "\u001b[0;36m  Cell \u001b[0;32mIn[217], line 2\u001b[0;36m\u001b[0m\n\u001b[0;31m    result = minimize(f,x0, options: {maxiter=1000})\u001b[0m\n\u001b[0m                                   ^\u001b[0m\n\u001b[0;31mSyntaxError\u001b[0m\u001b[0;31m:\u001b[0m invalid syntax\n"
     ]
    }
   ],
   "source": [
    "x0 = -100\n",
    "result = minimize(f,x0, options: {maxiter=1000})"
   ]
  },
  {
   "cell_type": "code",
   "execution_count": 209,
   "id": "final-margin",
   "metadata": {},
   "outputs": [
    {
     "data": {
      "text/plain": [
       "array([0.78088404])"
      ]
     },
     "execution_count": 209,
     "metadata": {},
     "output_type": "execute_result"
    }
   ],
   "source": [
    "result.x"
   ]
  },
  {
   "cell_type": "code",
   "execution_count": 211,
   "id": "under-swedish",
   "metadata": {},
   "outputs": [],
   "source": [
    "x = np.linspace(-100,100,1000)\n",
    "y = f(x)"
   ]
  },
  {
   "cell_type": "code",
   "execution_count": 212,
   "id": "medical-concrete",
   "metadata": {},
   "outputs": [
    {
     "data": {
      "image/png": "[encoded data removed]",
      "text/plain": [
       "<Figure size 640x480 with 1 Axes>"
      ]
     },
     "metadata": {},
     "output_type": "display_data"
    }
   ],
   "source": [
    "fix, axis = plt.subplots()\n",
    "axis = plt.scatter(x,y)"
   ]
  },
  {
   "cell_type": "code",
   "execution_count": null,
   "id": "expensive-hunter",
   "metadata": {},
   "outputs": [],
   "source": []
  }
 ],
 "metadata": {
  "kernelspec": {
   "display_name": "MLG",
   "language": "python",
   "name": "mlg"
  },
  "language_info": {
   "codemirror_mode": {
    "name": "ipython",
    "version": 3
   },
   "file_extension": ".py",
   "mimetype": "text/x-python",
   "name": "python",
   "nbconvert_exporter": "python",
   "pygments_lexer": "ipython3",
   "version": "3.10.11"
  }
 },
 "nbformat": 4,
 "nbformat_minor": 5
}
