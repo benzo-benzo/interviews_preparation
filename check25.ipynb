{
 "cells": [
  {
   "cell_type": "code",
   "execution_count": 54,
   "id": "incorporate-california",
   "metadata": {},
   "outputs": [],
   "source": [
    "import numpy as np\n",
    "import random\n",
    "import matplotlib.pyplot as plt\n",
    "from scipy import linalg\n",
    "from scipy.optimize import minimize_scalar\n",
    "from sklearn.datasets import load_iris\n",
    "import seaborn as sns\n",
    "from sklearn.model_selection import train_test_split"
   ]
  },
  {
   "cell_type": "markdown",
   "id": "modified-bottle",
   "metadata": {},
   "source": [
    "## Numpy ##"
   ]
  },
  {
   "cell_type": "markdown",
   "id": "tracked-account",
   "metadata": {},
   "source": [
    "# Creating a NumPy array#\n",
    "\n",
    "Write a Python program to create a NumPy array of 10 zeros, 10 ones, 10 fives."
   ]
  },
  {
   "cell_type": "code",
   "execution_count": 37,
   "id": "detailed-november",
   "metadata": {},
   "outputs": [],
   "source": [
    "#[meth for meth in dir(np) if not meth.startswith(\"_\")]"
   ]
  },
  {
   "cell_type": "code",
   "execution_count": 22,
   "id": "orange-shareware",
   "metadata": {},
   "outputs": [],
   "source": [
    "zeros = np.zeros(10)"
   ]
  },
  {
   "cell_type": "code",
   "execution_count": 44,
   "id": "industrial-earth",
   "metadata": {},
   "outputs": [
    {
     "data": {
      "text/plain": [
       "array([1, 1, 1, 1, 1, 1, 1, 1, 1, 1])"
      ]
     },
     "execution_count": 44,
     "metadata": {},
     "output_type": "execute_result"
    }
   ],
   "source": [
    "ones = [1 for it in range(10)]\n",
    "ones = np.array(ones)\n",
    "ones"
   ]
  },
  {
   "cell_type": "markdown",
   "id": "rocky-benchmark",
   "metadata": {},
   "source": [
    "# Array operations\n",
    "\n",
    "Given two NumPy arrays A = [1,2,3] and B = [4,5,6]. Perform addition, subtraction, multiplication, division and modulus operations on A and B.#"
   ]
  },
  {
   "cell_type": "code",
   "execution_count": 45,
   "id": "removable-vegetation",
   "metadata": {},
   "outputs": [],
   "source": [
    "A = np.array([1,2,3])\n",
    "B = np.array([4,5,6])"
   ]
  },
  {
   "cell_type": "code",
   "execution_count": 49,
   "id": "cultural-investigator",
   "metadata": {},
   "outputs": [],
   "source": [
    "C = A+B\n",
    "D = A/B\n",
    "E = A%B"
   ]
  },
  {
   "cell_type": "markdown",
   "id": "bronze-ecology",
   "metadata": {},
   "source": [
    "#Array slicing#\n",
    "\n",
    "Create a 1D NumPy array from 1 to 10 inclusive, then extract all odd numbers from this array."
   ]
  },
  {
   "cell_type": "code",
   "execution_count": 52,
   "id": "enabling-airport",
   "metadata": {},
   "outputs": [
    {
     "data": {
      "text/plain": [
       "[1, 3, 5, 7, 9]"
      ]
     },
     "execution_count": 52,
     "metadata": {},
     "output_type": "execute_result"
    }
   ],
   "source": [
    "[it for it in range(1,11) if it %2 == 1]"
   ]
  },
  {
   "cell_type": "markdown",
   "id": "retired-pulse",
   "metadata": {},
   "source": [
    "#Matrix operations#\n",
    "\n",
    "Create two 3x3 matrices and perform matrix multiplication and find the transpose of the result."
   ]
  },
  {
   "cell_type": "code",
   "execution_count": 68,
   "id": "joint-celtic",
   "metadata": {},
   "outputs": [
    {
     "name": "stdout",
     "output_type": "stream",
     "text": [
      "[[4 5 5]\n",
      " [0 0 0]\n",
      " [3 2 5]]\n"
     ]
    }
   ],
   "source": [
    "A = np.array([[4, 5, 5],[0,0,0],[3,2,5]])\n",
    "print(A)\n",
    "B = np.array([[1, 3, 2],[4,-2,1],[0,100,0]])"
   ]
  },
  {
   "cell_type": "code",
   "execution_count": 63,
   "id": "regular-watch",
   "metadata": {},
   "outputs": [],
   "source": [
    "C = A@B"
   ]
  },
  {
   "cell_type": "code",
   "execution_count": 64,
   "id": "impossible-witch",
   "metadata": {},
   "outputs": [
    {
     "name": "stdout",
     "output_type": "stream",
     "text": [
      "[[ 24 502  13]\n",
      " [  0   0   0]\n",
      " [ 11 505   8]]\n"
     ]
    }
   ],
   "source": [
    "print(C)"
   ]
  },
  {
   "cell_type": "code",
   "execution_count": 66,
   "id": "exact-union",
   "metadata": {},
   "outputs": [
    {
     "name": "stdout",
     "output_type": "stream",
     "text": [
      "[[ 24   0  11]\n",
      " [502   0 505]\n",
      " [ 13   0   8]]\n"
     ]
    }
   ],
   "source": [
    "print(C.transpose())"
   ]
  },
  {
   "cell_type": "markdown",
   "id": "accomplished-encyclopedia",
   "metadata": {},
   "source": [
    "# Aggregation Functions #\n",
    "\n",
    "Generate a 1D NumPy array of 10 random integers, then find the average, median, and standard deviation of the array."
   ]
  },
  {
   "cell_type": "code",
   "execution_count": 80,
   "id": "desirable-lightweight",
   "metadata": {},
   "outputs": [],
   "source": [
    "rand_list = [random.random() for it in range(1,11)]"
   ]
  },
  {
   "cell_type": "code",
   "execution_count": 81,
   "id": "active-stock",
   "metadata": {},
   "outputs": [
    {
     "data": {
      "text/plain": [
       "0.27480592532386605"
      ]
     },
     "execution_count": 81,
     "metadata": {},
     "output_type": "execute_result"
    }
   ],
   "source": [
    "np.mean(rand_list)"
   ]
  },
  {
   "cell_type": "code",
   "execution_count": 82,
   "id": "suburban-colon",
   "metadata": {},
   "outputs": [
    {
     "data": {
      "text/plain": [
       "0.21938753672158023"
      ]
     },
     "execution_count": 82,
     "metadata": {},
     "output_type": "execute_result"
    }
   ],
   "source": [
    "np.median(rand_list)"
   ]
  },
  {
   "cell_type": "code",
   "execution_count": 84,
   "id": "entertaining-special",
   "metadata": {},
   "outputs": [
    {
     "data": {
      "text/plain": [
       "0.2580849220375687"
      ]
     },
     "execution_count": 84,
     "metadata": {},
     "output_type": "execute_result"
    }
   ],
   "source": [
    "np.std(rand_list)"
   ]
  },
  {
   "cell_type": "markdown",
   "id": "commercial-deployment",
   "metadata": {},
   "source": [
    "# Reshaping and Flattening #\n",
    "\n",
    "Create a 3x3 matrix and convert this matrix to a 1D array."
   ]
  },
  {
   "cell_type": "code",
   "execution_count": 86,
   "id": "compound-antenna",
   "metadata": {},
   "outputs": [
    {
     "data": {
      "text/plain": [
       "array([4, 5, 5, 0, 0, 0, 3, 2, 5])"
      ]
     },
     "execution_count": 86,
     "metadata": {},
     "output_type": "execute_result"
    }
   ],
   "source": [
    "A = np.array([[4, 5, 5],[0,0,0],[3,2,5]])\n",
    "A.flatten()"
   ]
  },
  {
   "cell_type": "markdown",
   "id": "beginning-celebration",
   "metadata": {},
   "source": [
    "# Elementwise Functions #\n",
    "\n",
    "Create a 1D array of 10 elements. Apply the numpy sin function on the array. Use the numpy arcsin function to reverse the operation."
   ]
  },
  {
   "cell_type": "code",
   "execution_count": 87,
   "id": "finnish-audit",
   "metadata": {},
   "outputs": [],
   "source": [
    "rand_list = [random.random() for it in range(1,11)]"
   ]
  },
  {
   "cell_type": "code",
   "execution_count": 90,
   "id": "stock-advance",
   "metadata": {},
   "outputs": [
    {
     "data": {
      "text/plain": [
       "[0.6278011466716413,\n",
       " 0.46090615987228833,\n",
       " 0.987711253750054,\n",
       " 0.16341461648842304,\n",
       " 0.8697933913043436,\n",
       " 0.5920205463927962,\n",
       " 0.09124437377450079,\n",
       " 0.9670276266167281,\n",
       " 0.20500916243727618,\n",
       " 0.9449208268856607]"
      ]
     },
     "execution_count": 90,
     "metadata": {},
     "output_type": "execute_result"
    }
   ],
   "source": [
    "rand_list"
   ]
  },
  {
   "cell_type": "code",
   "execution_count": 88,
   "id": "executive-shepherd",
   "metadata": {},
   "outputs": [
    {
     "data": {
      "text/plain": [
       "array([0.5873666 , 0.44475989, 0.83476798, 0.16268827, 0.76419569,\n",
       "       0.55803884, 0.09111782, 0.82320179, 0.20357613, 0.81045056])"
      ]
     },
     "execution_count": 88,
     "metadata": {},
     "output_type": "execute_result"
    }
   ],
   "source": [
    "np.sin(rand_list)"
   ]
  },
  {
   "cell_type": "code",
   "execution_count": 89,
   "id": "medieval-lightweight",
   "metadata": {},
   "outputs": [
    {
     "data": {
      "text/plain": [
       "array([0.62780115, 0.46090616, 0.98771125, 0.16341462, 0.86979339,\n",
       "       0.59202055, 0.09124437, 0.96702763, 0.20500916, 0.94492083])"
      ]
     },
     "execution_count": 89,
     "metadata": {},
     "output_type": "execute_result"
    }
   ],
   "source": [
    "np.arcsin(np.sin(rand_list))"
   ]
  },
  {
   "cell_type": "markdown",
   "id": "conservative-proceeding",
   "metadata": {},
   "source": [
    "# Indexing and Selection #\n",
    "\n",
    "Create a 2D NumPy array of shape 5x5. Write a function to select the sub 2D array of shape 3x3 from the top left corner."
   ]
  },
  {
   "cell_type": "code",
   "execution_count": 91,
   "id": "therapeutic-harmony",
   "metadata": {},
   "outputs": [],
   "source": [
    "random.seed(43)"
   ]
  },
  {
   "cell_type": "code",
   "execution_count": 113,
   "id": "driven-warehouse",
   "metadata": {},
   "outputs": [
    {
     "name": "stdout",
     "output_type": "stream",
     "text": [
      "[[0.18755509 0.50372613 0.07907126 0.8441429  0.43707187]\n",
      " [0.0995408  0.26221025 0.8851484  0.55033617 0.18204979]\n",
      " [0.97597235 0.6870641  0.90671732 0.26883384 0.74884877]\n",
      " [0.33386011 0.51834701 0.9244203  0.43559297 0.7146843 ]\n",
      " [0.35866122 0.61061443 0.92000535 0.8031193  0.37118402]]\n"
     ]
    }
   ],
   "source": [
    "A = np.random.rand(5,5)\n",
    "print(A)"
   ]
  },
  {
   "cell_type": "code",
   "execution_count": 114,
   "id": "dedicated-chambers",
   "metadata": {},
   "outputs": [],
   "source": [
    "def sel3x3(A: np.ndarray):\n",
    "    assert A.shape >= (3,3), \"must be larger than 3x3!\"\n",
    "    return A[:3,:3]"
   ]
  },
  {
   "cell_type": "markdown",
   "id": "valid-helicopter",
   "metadata": {},
   "source": [
    "# Random Number Generation #\n",
    "\n",
    "Write a Python program that uses numpy to generate 10 random numbers from a standard normal distribution."
   ]
  },
  {
   "cell_type": "code",
   "execution_count": 140,
   "id": "thrown-directory",
   "metadata": {},
   "outputs": [],
   "source": [
    "random_list = [random.normalvariate(0,1) for it in range(1,110000)]"
   ]
  },
  {
   "cell_type": "code",
   "execution_count": 141,
   "id": "better-tracker",
   "metadata": {},
   "outputs": [
    {
     "data": {
      "image/png": "[encoded data removed]",
      "text/plain": [
       "<Figure size 640x480 with 1 Axes>"
      ]
     },
     "metadata": {},
     "output_type": "display_data"
    }
   ],
   "source": [
    "plt.hist(random_list, bins = \"auto\")\n",
    "plt.show()"
   ]
  },
  {
   "cell_type": "markdown",
   "id": "inclusive-manitoba",
   "metadata": {},
   "source": [
    "# Broadcasting #\n",
    "\n",
    "Given a 1D array of [1, 2, 3, 4] and a 2D array of [[1, 2, 3], [4, 5, 6], [7, 8, 9]], perform a relevant operation that takes advantage of broadcasting to generate an output array."
   ]
  },
  {
   "cell_type": "code",
   "execution_count": 143,
   "id": "registered-workstation",
   "metadata": {},
   "outputs": [],
   "source": [
    "A =  np.array([1, 2, 3, 4] )\n",
    "B = np.array([[1, 2, 3], [4, 5, 6], [7, 8, 9]])"
   ]
  },
  {
   "cell_type": "code",
   "execution_count": 160,
   "id": "cognitive-registration",
   "metadata": {},
   "outputs": [],
   "source": [
    "A2d = A[:,np.newaxis]"
   ]
  },
  {
   "cell_type": "code",
   "execution_count": 161,
   "id": "peripheral-turner",
   "metadata": {},
   "outputs": [
    {
     "ename": "ValueError",
     "evalue": "operands could not be broadcast together with shapes (4,1) (3,3) ",
     "output_type": "error",
     "traceback": [
      "\u001b[0;31m---------------------------------------------------------------------------\u001b[0m",
      "\u001b[0;31mValueError\u001b[0m                                Traceback (most recent call last)",
      "Cell \u001b[0;32mIn[161], line 1\u001b[0m\n\u001b[0;32m----> 1\u001b[0m \u001b[43mA2d\u001b[49m\u001b[38;5;241;43m+\u001b[39;49m\u001b[43mB\u001b[49m\n",
      "\u001b[0;31mValueError\u001b[0m: operands could not be broadcast together with shapes (4,1) (3,3) "
     ]
    }
   ],
   "source": [
    "A2d+B"
   ]
  },
  {
   "cell_type": "code",
   "execution_count": null,
   "id": "further-barrier",
   "metadata": {},
   "outputs": [],
   "source": [
    "# Linear Algebra #\n",
    "\n",
    "Given a square matrix A and a column matrix b, solve the system of linear equations A * x = b."
   ]
  },
  {
   "cell_type": "code",
   "execution_count": 165,
   "id": "vocal-newspaper",
   "metadata": {},
   "outputs": [],
   "source": [
    "A = np.random.rand(5,5)\n",
    "b = np.random.rand(5,1)"
   ]
  },
  {
   "cell_type": "code",
   "execution_count": 166,
   "id": "indirect-commander",
   "metadata": {},
   "outputs": [],
   "source": [
    "x = np.linalg.solve(A,b)"
   ]
  },
  {
   "cell_type": "code",
   "execution_count": 167,
   "id": "successful-canon",
   "metadata": {},
   "outputs": [
    {
     "data": {
      "text/plain": [
       "array([[-0.7143613 ],\n",
       "       [-0.49656483],\n",
       "       [ 0.57898152],\n",
       "       [ 1.11797328],\n",
       "       [-0.24651134]])"
      ]
     },
     "execution_count": 167,
     "metadata": {},
     "output_type": "execute_result"
    }
   ],
   "source": [
    "x"
   ]
  },
  {
   "cell_type": "code",
   "execution_count": 171,
   "id": "eastern-opera",
   "metadata": {},
   "outputs": [
    {
     "data": {
      "text/plain": [
       "array([[ 1.11022302e-16],\n",
       "       [ 1.11022302e-16],\n",
       "       [ 1.11022302e-16],\n",
       "       [-2.22044605e-16],\n",
       "       [-5.55111512e-17]])"
      ]
     },
     "execution_count": 171,
     "metadata": {},
     "output_type": "execute_result"
    }
   ],
   "source": [
    "linalg.inv(A)@b -x"
   ]
  },
  {
   "cell_type": "markdown",
   "id": "reasonable-illinois",
   "metadata": {},
   "source": [
    "# Interpolation #\n",
    "\n",
    "Given a set of known data points (x, y), use scipy's interpolation functions to interpolate a new set of data points"
   ]
  },
  {
   "cell_type": "code",
   "execution_count": 196,
   "id": "liable-software",
   "metadata": {},
   "outputs": [],
   "source": [
    "x = np.linspace(1,100,100)\n",
    "y = np.cos(x)"
   ]
  },
  {
   "cell_type": "code",
   "execution_count": 202,
   "id": "bearing-retreat",
   "metadata": {},
   "outputs": [],
   "source": [
    "xnew = np.linspace(3,58,101)"
   ]
  },
  {
   "cell_type": "code",
   "execution_count": 203,
   "id": "centered-tooth",
   "metadata": {},
   "outputs": [],
   "source": [
    "ynew = np.interp(xnew,x,y)"
   ]
  },
  {
   "cell_type": "code",
   "execution_count": 204,
   "id": "popular-lancaster",
   "metadata": {},
   "outputs": [
    {
     "data": {
      "image/png": "[encoded data removed]",
      "text/plain": [
       "<Figure size 640x480 with 1 Axes>"
      ]
     },
     "metadata": {},
     "output_type": "display_data"
    }
   ],
   "source": [
    "fig, axis = plt.subplots()\n",
    "axis = plt.scatter(x,y)\n",
    "axis = plt.scatter(xnew,ynew)"
   ]
  },
  {
   "cell_type": "markdown",
   "id": "considerable-intensity",
   "metadata": {},
   "source": [
    "# Optimization #\n",
    "\n",
    "Given a function f(x) = x^4 - 14x^3 + 60x^2 - 70x, find the minimum of the function using scipy's optimization functions."
   ]
  },
  {
   "cell_type": "code",
   "execution_count": 4,
   "id": "capital-marketplace",
   "metadata": {},
   "outputs": [],
   "source": [
    "from scipy.optimize import minimize\n",
    "\n",
    "def f(x):\n",
    "    return x**4 - 14*x**3 + 60*x**2 - 70*x"
   ]
  },
  {
   "cell_type": "code",
   "execution_count": 5,
   "id": "strategic-diesel",
   "metadata": {},
   "outputs": [],
   "source": [
    "x0 = -1\n",
    "result = minimize(f,x0)"
   ]
  },
  {
   "cell_type": "code",
   "execution_count": 11,
   "id": "parallel-synthesis",
   "metadata": {},
   "outputs": [
    {
     "data": {
      "text/plain": [
       "array([0.78088404])"
      ]
     },
     "execution_count": 11,
     "metadata": {},
     "output_type": "execute_result"
    }
   ],
   "source": [
    "result.x"
   ]
  },
  {
   "cell_type": "code",
   "execution_count": 12,
   "id": "original-latin",
   "metadata": {},
   "outputs": [],
   "source": [
    "x = np.linspace(-100,100,1000)\n",
    "y = f(x)"
   ]
  },
  {
   "cell_type": "code",
   "execution_count": 13,
   "id": "functional-constitution",
   "metadata": {},
   "outputs": [
    {
     "data": {
      "image/png": "[encoded data removed]",
      "text/plain": [
       "<Figure size 640x480 with 1 Axes>"
      ]
     },
     "metadata": {},
     "output_type": "display_data"
    }
   ],
   "source": [
    "fix, axis = plt.subplots()\n",
    "axis = plt.scatter(x,y)"
   ]
  },
  {
   "cell_type": "code",
   "execution_count": 10,
   "id": "greater-music",
   "metadata": {},
   "outputs": [
    {
     "data": {
      "text/plain": [
       " message: \n",
       "          Optimization terminated successfully;\n",
       "          The returned value satisfies the termination criteria\n",
       "          (using xtol = 1.48e-08 )\n",
       " success: True\n",
       "     fun: -24.369601567355037\n",
       "       x: 0.7808840645508038\n",
       "     nit: 10\n",
       "    nfev: 13"
      ]
     },
     "execution_count": 10,
     "metadata": {},
     "output_type": "execute_result"
    }
   ],
   "source": [
    "minimize_scalar(f)"
   ]
  },
  {
   "cell_type": "markdown",
   "id": "hollow-cannon",
   "metadata": {},
   "source": [
    "# Statistical Distributions #\n",
    "\n",
    "Generate 1000 random values following a normal distribution with mean 0 and standard deviation 1. Calculate and print their mean and standard deviation and ensure they're close to the distribution parameters."
   ]
  },
  {
   "cell_type": "code",
   "execution_count": 29,
   "id": "metric-canon",
   "metadata": {},
   "outputs": [],
   "source": [
    "rand_list = [random.gauss(mu = 0,sigma = 1) for _ in range(1,100000)]"
   ]
  },
  {
   "cell_type": "code",
   "execution_count": 31,
   "id": "blocked-notion",
   "metadata": {},
   "outputs": [
    {
     "data": {
      "image/png": "[encoded data removed]",
      "text/plain": [
       "<Figure size 640x480 with 1 Axes>"
      ]
     },
     "metadata": {},
     "output_type": "display_data"
    }
   ],
   "source": [
    "plt.hist(rand_list, bins=\"auto\")\n",
    "plt.show()"
   ]
  },
  {
   "cell_type": "markdown",
   "id": "representative-tribune",
   "metadata": {},
   "source": [
    "# Integration #\n",
    "\n",
    "Evaluate the integral of a function f(x) = x^2 from 0 to 1 using scipy's integration functions."
   ]
  },
  {
   "cell_type": "code",
   "execution_count": 40,
   "id": "veterinary-directory",
   "metadata": {},
   "outputs": [
    {
     "data": {
      "text/plain": [
       "0.333333333500501"
      ]
     },
     "execution_count": 40,
     "metadata": {},
     "output_type": "execute_result"
    }
   ],
   "source": [
    "from scipy import integrate \n",
    "\n",
    "def f(x):\n",
    "    return x**2\n",
    "\n",
    "x = np.linspace(0,1,1000)\n",
    "\n",
    "integrate.simpson(f(x),x)"
   ]
  },
  {
   "cell_type": "markdown",
   "id": "innovative-google",
   "metadata": {},
   "source": [
    "#Fourier Transformation#\n",
    "\n",
    "Perform the Fourier Transformation on a given 1D signal using scipy. Try to regenerate the original signal from its Fourier Transform."
   ]
  },
  {
   "cell_type": "code",
   "execution_count": 67,
   "id": "physical-colors",
   "metadata": {},
   "outputs": [],
   "source": [
    "from scipy.fft import fft, ifft\n",
    "x = [random.gauss(mu = 0, sigma = 4) for _ in range(1,1000)]\n",
    "y = fft(x)"
   ]
  },
  {
   "cell_type": "code",
   "execution_count": 68,
   "id": "meaning-separate",
   "metadata": {},
   "outputs": [
    {
     "data": {
      "image/png": "[encoded data removed]",
      "text/plain": [
       "<Figure size 640x480 with 1 Axes>"
      ]
     },
     "metadata": {},
     "output_type": "display_data"
    }
   ],
   "source": [
    "plt.hist(x, bins = \"auto\")\n",
    "plt.show()"
   ]
  },
  {
   "cell_type": "markdown",
   "id": "communist-disposal",
   "metadata": {},
   "source": [
    "# Special Functions #\n",
    "\n",
    "Use scipy's special module to compute the gamma function at different points."
   ]
  },
  {
   "cell_type": "code",
   "execution_count": 72,
   "id": "electronic-lover",
   "metadata": {},
   "outputs": [
    {
     "data": {
      "text/plain": [
       "6.0"
      ]
     },
     "execution_count": 72,
     "metadata": {},
     "output_type": "execute_result"
    }
   ],
   "source": [
    "from scipy import special\n",
    "special.gamma(4)"
   ]
  },
  {
   "cell_type": "markdown",
   "id": "classical-powder",
   "metadata": {},
   "source": [
    "# Sparse Matrices #\n",
    "\n",
    "Create a large 2D sparse matrix with scipy, convert it to dense, and compare their memory usage."
   ]
  },
  {
   "cell_type": "code",
   "execution_count": 74,
   "id": "ethical-mathematics",
   "metadata": {},
   "outputs": [],
   "source": [
    "size = (10000, 20000)\n",
    "density = 0.001"
   ]
  },
  {
   "cell_type": "code",
   "execution_count": 75,
   "id": "exotic-albuquerque",
   "metadata": {},
   "outputs": [],
   "source": [
    "random_mask = np.random.choice([False, True], size=size, p=[1-density, density])"
   ]
  },
  {
   "cell_type": "code",
   "execution_count": 76,
   "id": "organized-partner",
   "metadata": {},
   "outputs": [
    {
     "name": "stdout",
     "output_type": "stream",
     "text": [
      "[[False False False ... False False False]\n",
      " [False False False ... False False False]\n",
      " [False False False ... False False False]\n",
      " ...\n",
      " [False False False ... False False False]\n",
      " [False False False ... False False False]\n",
      " [False False False ... False False False]]\n"
     ]
    }
   ],
   "source": [
    "print(random_mask)"
   ]
  },
  {
   "cell_type": "code",
   "execution_count": 78,
   "id": "armed-australian",
   "metadata": {},
   "outputs": [],
   "source": [
    "num_values = int(size[0] * size[1] * density)\n",
    "sparse_values = np.random.rand(num_values)"
   ]
  },
  {
   "cell_type": "code",
   "execution_count": 79,
   "id": "neutral-brush",
   "metadata": {},
   "outputs": [
    {
     "ename": "ValueError",
     "evalue": "NumPy boolean array indexing assignment cannot assign 200000 input values to the 200164 output values where the mask is true",
     "output_type": "error",
     "traceback": [
      "\u001b[0;31m---------------------------------------------------------------------------\u001b[0m",
      "\u001b[0;31mValueError\u001b[0m                                Traceback (most recent call last)",
      "Cell \u001b[0;32mIn[79], line 2\u001b[0m\n\u001b[1;32m      1\u001b[0m dense_matrix \u001b[38;5;241m=\u001b[39m np\u001b[38;5;241m.\u001b[39mzeros(size)\n\u001b[0;32m----> 2\u001b[0m dense_matrix[random_mask] \u001b[38;5;241m=\u001b[39m sparse_values\n",
      "\u001b[0;31mValueError\u001b[0m: NumPy boolean array indexing assignment cannot assign 200000 input values to the 200164 output values where the mask is true"
     ]
    }
   ],
   "source": [
    "dense_matrix = np.zeros(size)\n",
    "dense_matrix[random_mask] = sparse_values"
   ]
  },
  {
   "cell_type": "code",
   "execution_count": 80,
   "id": "preceding-botswana",
   "metadata": {},
   "outputs": [
    {
     "ename": "NameError",
     "evalue": "name 'sparse' is not defined",
     "output_type": "error",
     "traceback": [
      "\u001b[0;31m---------------------------------------------------------------------------\u001b[0m",
      "\u001b[0;31mNameError\u001b[0m                                 Traceback (most recent call last)",
      "Cell \u001b[0;32mIn[80], line 1\u001b[0m\n\u001b[0;32m----> 1\u001b[0m sparse_matrix \u001b[38;5;241m=\u001b[39m \u001b[43msparse\u001b[49m\u001b[38;5;241m.\u001b[39mcsr_matrix(dense_matrix)\n",
      "\u001b[0;31mNameError\u001b[0m: name 'sparse' is not defined"
     ]
    }
   ],
   "source": [
    "sparse_matrix = sparse.csr_matrix(dense_matrix)"
   ]
  },
  {
   "cell_type": "code",
   "execution_count": 81,
   "id": "together-documentation",
   "metadata": {},
   "outputs": [
    {
     "ename": "NameError",
     "evalue": "name 'sys' is not defined",
     "output_type": "error",
     "traceback": [
      "\u001b[0;31m---------------------------------------------------------------------------\u001b[0m",
      "\u001b[0;31mNameError\u001b[0m                                 Traceback (most recent call last)",
      "Cell \u001b[0;32mIn[81], line 1\u001b[0m\n\u001b[0;32m----> 1\u001b[0m sparse_memory \u001b[38;5;241m=\u001b[39m \u001b[43msys\u001b[49m\u001b[38;5;241m.\u001b[39mgetsizeof(sparse_matrix\u001b[38;5;241m.\u001b[39mdata)\n\u001b[1;32m      2\u001b[0m dense_memory \u001b[38;5;241m=\u001b[39m sys\u001b[38;5;241m.\u001b[39mgetsizeof(dense_matrix)\n",
      "\u001b[0;31mNameError\u001b[0m: name 'sys' is not defined"
     ]
    }
   ],
   "source": [
    "sparse_memory = sys.getsizeof(sparse_matrix.data)\n",
    "dense_memory = sys.getsizeof(dense_matrix)\n"
   ]
  },
  {
   "cell_type": "markdown",
   "id": "casual-cover",
   "metadata": {},
   "source": [
    "# Data Loading and Exploration#\n",
    "\n",
    "Use the load_iris function from scikit-learn to load the Iris dataset. Inspect the dataset and understand its structure."
   ]
  },
  {
   "cell_type": "code",
   "execution_count": 41,
   "id": "powered-quarterly",
   "metadata": {},
   "outputs": [],
   "source": [
    "data = load_iris(as_frame=True)"
   ]
  },
  {
   "cell_type": "code",
   "execution_count": 21,
   "id": "judicial-louisville",
   "metadata": {},
   "outputs": [
    {
     "data": {
      "text/plain": [
       "array([0, 2, 2])"
      ]
     },
     "execution_count": 21,
     "metadata": {},
     "output_type": "execute_result"
    }
   ],
   "source": [
    "data.target[[1,145,149]]"
   ]
  },
  {
   "cell_type": "code",
   "execution_count": 48,
   "id": "signal-official",
   "metadata": {},
   "outputs": [
    {
     "data": {
      "image/png": "[encoded data removed]",
      "text/plain": [
       "<Figure size 640x480 with 2 Axes>"
      ]
     },
     "metadata": {},
     "output_type": "display_data"
    }
   ],
   "source": [
    "data.target\n",
    "data.feature_names\n",
    "data.target_names\n",
    "#print(data.DESCR)\n",
    "df = data.frame\n",
    "corr = df.corr()\n",
    "sns.heatmap(corr, annot=True)\n",
    "plt.show()"
   ]
  },
  {
   "cell_type": "code",
   "execution_count": 50,
   "id": "treated-roberts",
   "metadata": {},
   "outputs": [
    {
     "data": {
      "text/plain": [
       "sepal length (cm)    0\n",
       "sepal width (cm)     0\n",
       "petal length (cm)    0\n",
       "petal width (cm)     0\n",
       "target               0\n",
       "dtype: int64"
      ]
     },
     "execution_count": 50,
     "metadata": {},
     "output_type": "execute_result"
    }
   ],
   "source": [
    "df.isna().sum()"
   ]
  },
  {
   "cell_type": "code",
   "execution_count": 52,
   "id": "annual-mediterranean",
   "metadata": {},
   "outputs": [
    {
     "data": {
      "text/html": [
       "<div>\n",
       "<style scoped>\n",
       "    .dataframe tbody tr th:only-of-type {\n",
       "        vertical-align: middle;\n",
       "    }\n",
       "\n",
       "    .dataframe tbody tr th {\n",
       "        vertical-align: top;\n",
       "    }\n",
       "\n",
       "    .dataframe thead th {\n",
       "        text-align: right;\n",
       "    }\n",
       "</style>\n",
       "<table border=\"1\" class=\"dataframe\">\n",
       "  <thead>\n",
       "    <tr style=\"text-align: right;\">\n",
       "      <th></th>\n",
       "      <th>sepal length (cm)</th>\n",
       "      <th>sepal width (cm)</th>\n",
       "      <th>petal length (cm)</th>\n",
       "      <th>petal width (cm)</th>\n",
       "      <th>target</th>\n",
       "    </tr>\n",
       "  </thead>\n",
       "  <tbody>\n",
       "    <tr>\n",
       "      <th>0</th>\n",
       "      <td>5.1</td>\n",
       "      <td>3.5</td>\n",
       "      <td>1.4</td>\n",
       "      <td>0.2</td>\n",
       "      <td>0</td>\n",
       "    </tr>\n",
       "    <tr>\n",
       "      <th>1</th>\n",
       "      <td>4.9</td>\n",
       "      <td>3.0</td>\n",
       "      <td>1.4</td>\n",
       "      <td>0.2</td>\n",
       "      <td>0</td>\n",
       "    </tr>\n",
       "    <tr>\n",
       "      <th>2</th>\n",
       "      <td>4.7</td>\n",
       "      <td>3.2</td>\n",
       "      <td>1.3</td>\n",
       "      <td>0.2</td>\n",
       "      <td>0</td>\n",
       "    </tr>\n",
       "    <tr>\n",
       "      <th>3</th>\n",
       "      <td>4.6</td>\n",
       "      <td>3.1</td>\n",
       "      <td>1.5</td>\n",
       "      <td>0.2</td>\n",
       "      <td>0</td>\n",
       "    </tr>\n",
       "    <tr>\n",
       "      <th>4</th>\n",
       "      <td>5.0</td>\n",
       "      <td>3.6</td>\n",
       "      <td>1.4</td>\n",
       "      <td>0.2</td>\n",
       "      <td>0</td>\n",
       "    </tr>\n",
       "    <tr>\n",
       "      <th>...</th>\n",
       "      <td>...</td>\n",
       "      <td>...</td>\n",
       "      <td>...</td>\n",
       "      <td>...</td>\n",
       "      <td>...</td>\n",
       "    </tr>\n",
       "    <tr>\n",
       "      <th>135</th>\n",
       "      <td>7.7</td>\n",
       "      <td>3.0</td>\n",
       "      <td>6.1</td>\n",
       "      <td>2.3</td>\n",
       "      <td>2</td>\n",
       "    </tr>\n",
       "    <tr>\n",
       "      <th>136</th>\n",
       "      <td>6.3</td>\n",
       "      <td>3.4</td>\n",
       "      <td>5.6</td>\n",
       "      <td>2.4</td>\n",
       "      <td>2</td>\n",
       "    </tr>\n",
       "    <tr>\n",
       "      <th>137</th>\n",
       "      <td>6.4</td>\n",
       "      <td>3.1</td>\n",
       "      <td>5.5</td>\n",
       "      <td>1.8</td>\n",
       "      <td>2</td>\n",
       "    </tr>\n",
       "    <tr>\n",
       "      <th>138</th>\n",
       "      <td>6.0</td>\n",
       "      <td>3.0</td>\n",
       "      <td>4.8</td>\n",
       "      <td>1.8</td>\n",
       "      <td>2</td>\n",
       "    </tr>\n",
       "    <tr>\n",
       "      <th>139</th>\n",
       "      <td>6.9</td>\n",
       "      <td>3.1</td>\n",
       "      <td>5.4</td>\n",
       "      <td>2.1</td>\n",
       "      <td>2</td>\n",
       "    </tr>\n",
       "  </tbody>\n",
       "</table>\n",
       "<p>140 rows × 5 columns</p>\n",
       "</div>"
      ],
      "text/plain": [
       "     sepal length (cm)  sepal width (cm)  petal length (cm)  petal width (cm)  \\\n",
       "0                  5.1               3.5                1.4               0.2   \n",
       "1                  4.9               3.0                1.4               0.2   \n",
       "2                  4.7               3.2                1.3               0.2   \n",
       "3                  4.6               3.1                1.5               0.2   \n",
       "4                  5.0               3.6                1.4               0.2   \n",
       "..                 ...               ...                ...               ...   \n",
       "135                7.7               3.0                6.1               2.3   \n",
       "136                6.3               3.4                5.6               2.4   \n",
       "137                6.4               3.1                5.5               1.8   \n",
       "138                6.0               3.0                4.8               1.8   \n",
       "139                6.9               3.1                5.4               2.1   \n",
       "\n",
       "     target  \n",
       "0         0  \n",
       "1         0  \n",
       "2         0  \n",
       "3         0  \n",
       "4         0  \n",
       "..      ...  \n",
       "135       2  \n",
       "136       2  \n",
       "137       2  \n",
       "138       2  \n",
       "139       2  \n",
       "\n",
       "[140 rows x 5 columns]"
      ]
     },
     "execution_count": 52,
     "metadata": {},
     "output_type": "execute_result"
    }
   ],
   "source": [
    "df.head(-10)"
   ]
  },
  {
   "cell_type": "code",
   "execution_count": 78,
   "id": "popular-baseball",
   "metadata": {},
   "outputs": [],
   "source": [
    "#X = df.drop(labels= \"target\", axis=1)\n",
    "X =df.drop(labels = \"target\", axis=1)\n",
    "y = df[\"target\"]\n",
    "X_train, X_test, y_train, y_test = train_test_split(X, y, test_size=0.1, random_state=43)"
   ]
  },
  {
   "cell_type": "code",
   "execution_count": 77,
   "id": "ancient-nepal",
   "metadata": {},
   "outputs": [
    {
     "data": {
      "text/html": [
       "<div>\n",
       "<style scoped>\n",
       "    .dataframe tbody tr th:only-of-type {\n",
       "        vertical-align: middle;\n",
       "    }\n",
       "\n",
       "    .dataframe tbody tr th {\n",
       "        vertical-align: top;\n",
       "    }\n",
       "\n",
       "    .dataframe thead th {\n",
       "        text-align: right;\n",
       "    }\n",
       "</style>\n",
       "<table border=\"1\" class=\"dataframe\">\n",
       "  <thead>\n",
       "    <tr style=\"text-align: right;\">\n",
       "      <th></th>\n",
       "      <th>sepal length (cm)</th>\n",
       "      <th>sepal width (cm)</th>\n",
       "      <th>petal length (cm)</th>\n",
       "      <th>petal width (cm)</th>\n",
       "    </tr>\n",
       "  </thead>\n",
       "  <tbody>\n",
       "    <tr>\n",
       "      <th>62</th>\n",
       "      <td>6.0</td>\n",
       "      <td>2.2</td>\n",
       "      <td>4.0</td>\n",
       "      <td>1.0</td>\n",
       "    </tr>\n",
       "    <tr>\n",
       "      <th>66</th>\n",
       "      <td>5.6</td>\n",
       "      <td>3.0</td>\n",
       "      <td>4.5</td>\n",
       "      <td>1.5</td>\n",
       "    </tr>\n",
       "    <tr>\n",
       "      <th>69</th>\n",
       "      <td>5.6</td>\n",
       "      <td>2.5</td>\n",
       "      <td>3.9</td>\n",
       "      <td>1.1</td>\n",
       "    </tr>\n",
       "    <tr>\n",
       "      <th>142</th>\n",
       "      <td>5.8</td>\n",
       "      <td>2.7</td>\n",
       "      <td>5.1</td>\n",
       "      <td>1.9</td>\n",
       "    </tr>\n",
       "    <tr>\n",
       "      <th>80</th>\n",
       "      <td>5.5</td>\n",
       "      <td>2.4</td>\n",
       "      <td>3.8</td>\n",
       "      <td>1.1</td>\n",
       "    </tr>\n",
       "    <tr>\n",
       "      <th>...</th>\n",
       "      <td>...</td>\n",
       "      <td>...</td>\n",
       "      <td>...</td>\n",
       "      <td>...</td>\n",
       "    </tr>\n",
       "    <tr>\n",
       "      <th>58</th>\n",
       "      <td>6.6</td>\n",
       "      <td>2.9</td>\n",
       "      <td>4.6</td>\n",
       "      <td>1.3</td>\n",
       "    </tr>\n",
       "    <tr>\n",
       "      <th>21</th>\n",
       "      <td>5.1</td>\n",
       "      <td>3.7</td>\n",
       "      <td>1.5</td>\n",
       "      <td>0.4</td>\n",
       "    </tr>\n",
       "    <tr>\n",
       "      <th>49</th>\n",
       "      <td>5.0</td>\n",
       "      <td>3.3</td>\n",
       "      <td>1.4</td>\n",
       "      <td>0.2</td>\n",
       "    </tr>\n",
       "    <tr>\n",
       "      <th>64</th>\n",
       "      <td>5.6</td>\n",
       "      <td>2.9</td>\n",
       "      <td>3.6</td>\n",
       "      <td>1.3</td>\n",
       "    </tr>\n",
       "    <tr>\n",
       "      <th>68</th>\n",
       "      <td>6.2</td>\n",
       "      <td>2.2</td>\n",
       "      <td>4.5</td>\n",
       "      <td>1.5</td>\n",
       "    </tr>\n",
       "  </tbody>\n",
       "</table>\n",
       "<p>112 rows × 4 columns</p>\n",
       "</div>"
      ],
      "text/plain": [
       "     sepal length (cm)  sepal width (cm)  petal length (cm)  petal width (cm)\n",
       "62                 6.0               2.2                4.0               1.0\n",
       "66                 5.6               3.0                4.5               1.5\n",
       "69                 5.6               2.5                3.9               1.1\n",
       "142                5.8               2.7                5.1               1.9\n",
       "80                 5.5               2.4                3.8               1.1\n",
       "..                 ...               ...                ...               ...\n",
       "58                 6.6               2.9                4.6               1.3\n",
       "21                 5.1               3.7                1.5               0.4\n",
       "49                 5.0               3.3                1.4               0.2\n",
       "64                 5.6               2.9                3.6               1.3\n",
       "68                 6.2               2.2                4.5               1.5\n",
       "\n",
       "[112 rows x 4 columns]"
      ]
     },
     "execution_count": 77,
     "metadata": {},
     "output_type": "execute_result"
    }
   ],
   "source": [
    "X_train"
   ]
  },
  {
   "cell_type": "code",
   "execution_count": null,
   "id": "affected-robertson",
   "metadata": {},
   "outputs": [],
   "source": []
  }
 ],
 "metadata": {
  "kernelspec": {
   "display_name": "MLG",
   "language": "python",
   "name": "mlg"
  },
  "language_info": {
   "codemirror_mode": {
    "name": "ipython",
    "version": 3
   },
   "file_extension": ".py",
   "mimetype": "text/x-python",
   "name": "python",
   "nbconvert_exporter": "python",
   "pygments_lexer": "ipython3",
   "version": "3.10.11"
  }
 },
 "nbformat": 4,
 "nbformat_minor": 5
}
